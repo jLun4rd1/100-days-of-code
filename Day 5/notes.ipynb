{
 "cells": [
  {
   "cell_type": "code",
   "execution_count": null,
   "metadata": {},
   "outputs": [],
   "source": [
    "# For Loops\n",
    "fruits = [\"Apple\", \"Peach\", \"Pear\"]\n",
    "\n",
    "for fruit in fruits:\n",
    "    print(fruit)\n",
    "    print(fruit + \" pie\")\n",
    "    \n",
    "print(fruits)    "
   ]
  },
  {
   "cell_type": "code",
   "execution_count": null,
   "metadata": {},
   "outputs": [],
   "source": [
    "##  Highest Score\n",
    "\n",
    "# Sum of Scores with For Loops\n",
    "student_scores = [150, 142, 185, 120, 171, 184, 149, 24, 59, 68, 199, 78, 65, 89, 86, 55, 91, 64, 89]\n",
    "\n",
    "total_exam_score = sum(student_scores)\n",
    "print(total_exam_score)\n",
    "\n",
    "sum_of_scores = 0\n",
    "for score in student_scores:\n",
    "    sum_of_scores += score\n",
    "    \n",
    "print(sum_of_scores)\n",
    "\n",
    "# Max Score with For Loops\n",
    "print(max(student_scores))\n",
    "\n",
    "max_score = 0\n",
    "\n",
    "for score in student_scores:\n",
    "    if score > max_score:\n",
    "        max_score = score\n",
    "\n",
    "print(max_score)\n",
    "\n",
    "# Min Score with For Loops\n",
    "print(min(student_scores))\n",
    "\n",
    "min_score = max_score\n",
    "\n",
    "for score in student_scores:\n",
    "    if score < min_score:\n",
    "        min_score = score\n",
    "        \n",
    "print(min_score)"
   ]
  },
  {
   "cell_type": "code",
   "execution_count": null,
   "metadata": {},
   "outputs": [],
   "source": [
    "# For Loops with Range\n",
    "\n",
    "print(range(1, 10)) # <<< Does nothing!\n",
    "\n",
    "for number in range(1, 10): # <<< Does not include 10\n",
    "    print(number)\n",
    "    \n",
    "for number in range(0, 10, 2): # <<< range(initial_n, final_n(not included), steps)\n",
    "    print(number)\n",
    "\n",
    "total = 0\n",
    "\n",
    "for number in range(1, 101):\n",
    "    total += number\n",
    "    \n",
    "print(total)\n"
   ]
  }
 ],
 "metadata": {
  "kernelspec": {
   "display_name": "Python 3",
   "language": "python",
   "name": "python3"
  },
  "language_info": {
   "codemirror_mode": {
    "name": "ipython",
    "version": 3
   },
   "file_extension": ".py",
   "mimetype": "text/x-python",
   "name": "python",
   "nbconvert_exporter": "python",
   "pygments_lexer": "ipython3",
   "version": "3.12.3"
  }
 },
 "nbformat": 4,
 "nbformat_minor": 2
}
