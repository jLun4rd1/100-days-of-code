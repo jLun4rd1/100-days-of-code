{
 "cells": [
  {
   "cell_type": "code",
   "execution_count": null,
   "metadata": {},
   "outputs": [],
   "source": [
    "import random\n",
    "\n",
    "letters = ['a', 'b', 'c', 'd', 'e', 'f', 'g', 'h', 'i', 'j', 'k', 'l', 'm', 'n', 'o', 'p', 'q', 'r', 's', 't', 'u', 'v', 'w', 'x', 'y', 'z', 'A', 'B', 'C', 'D', 'E', 'F', 'G', 'H', 'I', 'J', 'K', 'L', 'M', 'N', 'O', 'P', 'Q', 'R', 'S', 'T', 'U', 'V', 'W', 'X', 'Y', 'Z']\n",
    "numbers = ['0', '1', '2', '3', '4', '5', '6', '7', '8', '9']\n",
    "symbols = ['!', '#', '$', '%', '&', '(', ')', '*', '+']\n",
    "\n",
    "print(\"Welcome to the PyPassword Generator!\")\n",
    "nr_letters = int(input(\"How many letters would you like in your password?\\n\"))\n",
    "nr_numbers = int(input(f\"How many numbers would you like?\\n\"))\n",
    "nr_symbols = int(input(f\"How many symbols would you like?\\n\"))\n",
    "sequence = input(\"Would you like to follow the sequence: Letters, Numbers and Symbols? (Y/N)\")\n",
    "\n",
    "if sequence.lower() == 'y':\n",
    "    password = ''\n",
    "\n",
    "    for index in range(0, nr_letters):\n",
    "        password = password + random.choice(letters)\n",
    "\n",
    "    for index in range(0, nr_numbers):\n",
    "        password = password + random.choice(numbers)\n",
    "        \n",
    "    for index in range(0, nr_symbols):\n",
    "        password = password + random.choice(symbols)\n",
    "\n",
    "    print('Easy password: ' + password)\n",
    "\n",
    "else:\n",
    "    password = ''\n",
    "\n",
    "    characters_list = []\n",
    "\n",
    "    for index in range(0, nr_letters):\n",
    "        characters_list.append(random.choice(letters))\n",
    "\n",
    "    for index in range(0, nr_numbers):\n",
    "        characters_list.append(random.choice(numbers))\n",
    "        \n",
    "    for index in range(0, nr_symbols):\n",
    "        characters_list.append(random.choice(symbols))\n",
    "\n",
    "    ## EITHER \n",
    "    for index in range(0, len(characters_list)):\n",
    "        choice = random.choice(characters_list)\n",
    "        password += choice\n",
    "        characters_list.remove(choice)\n",
    "    \n",
    "    ## OR <<< course solution! Learned random.shuffle\n",
    "    # random.shuffle(characters_list)\n",
    "    # for char in characters_list:\n",
    "    #   password += char\n",
    "        \n",
    "    print('Hard password: ' + password)\n"
   ]
  }
 ],
 "metadata": {
  "kernelspec": {
   "display_name": "Python 3",
   "language": "python",
   "name": "python3"
  },
  "language_info": {
   "codemirror_mode": {
    "name": "ipython",
    "version": 3
   },
   "file_extension": ".py",
   "mimetype": "text/x-python",
   "name": "python",
   "nbconvert_exporter": "python",
   "pygments_lexer": "ipython3",
   "version": "3.12.3"
  }
 },
 "nbformat": 4,
 "nbformat_minor": 2
}
