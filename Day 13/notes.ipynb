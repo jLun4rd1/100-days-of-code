{
 "cells": [
  {
   "cell_type": "code",
   "execution_count": null,
   "metadata": {},
   "outputs": [],
   "source": [
    "## Debugging - Describe The Problem\n",
    "# You need to be sure what the problem is!\n",
    "\n",
    "def my_function():\n",
    "    for i in range(1, 20):\n",
    "        if i == 20:\n",
    "            print(\"You got it\")\n",
    "\n",
    "\n",
    "my_function()\n",
    "\n",
    "# Describe the Problem - Write your answers as comments:\n",
    "# 1. What is the for loop doing?\n",
    "# R: For each iteration between 1 and 19, it's checking whether the number equals to 20 or not.\n",
    "\n",
    "# 2. When is the function meant to print \"You got it\"?\n",
    "# R: Only when the number equals to 20\n",
    "\n",
    "# 3. What are your assumptions about the value of i?\n",
    "# R: They won't ever get to 20\n",
    "\n",
    "# Fix:\n",
    "\n",
    "def my_function():\n",
    "    for i in range(1, 21):\n",
    "        if i == 20:\n",
    "            print(\"You got it\")\n",
    "\n",
    "\n",
    "my_function()"
   ]
  },
  {
   "cell_type": "code",
   "execution_count": null,
   "metadata": {},
   "outputs": [],
   "source": [
    "## Debugging - Reproduce The Bug\n",
    "from random import randint\n",
    "\n",
    "def roll_the_dice():\n",
    "    dice_images = [\"❶\", \"❷\", \"❸\", \"❹\", \"❺\", \"❻\"]\n",
    "    dice_num = randint(1, 6)\n",
    "    print(dice_num) # <<< VERY IMPORTANT! Print out what is causing the error.\n",
    "    print(dice_images[dice_num])\n",
    "\n",
    "    print(dice_images[6]) # <<< Try to reproduce the error.\n",
    "\n",
    "# roll_the_dice()\n",
    "\n",
    "# FIX:\n",
    "def roll_the_dice_fixed():\n",
    "    dice_images = [\"❶\", \"❷\", \"❸\", \"❹\", \"❺\", \"❻\"]\n",
    "    dice_num = randint(0, 5)\n",
    "    print(dice_images[dice_num])\n",
    "\n",
    "roll_the_dice_fixed()"
   ]
  },
  {
   "cell_type": "code",
   "execution_count": null,
   "metadata": {},
   "outputs": [],
   "source": [
    "## Debugging - Play Computer\n",
    "\n",
    "year = int(input(\"What's your year of birth?\"))\n",
    "\n",
    "if year > 1980 and year < 1994:\n",
    "    print(\"You are a millennial.\")\n",
    "elif year > 1994:\n",
    "    print(\"You are a Gen Z.\")\n",
    "    \n",
    "# What the computer sees when...\n",
    "year = 1994\n",
    "\n",
    "if year > 1980 (True) and year < 1994 (False): # << True * False = False, so the line below will be skipped\n",
    "    print(\"You are a millennial.\") \n",
    "elif year > 1994 (False): # << False again! No prints for that line.\n",
    "    print(\"You are a Gen Z.\") \n",
    "    \n",
    "# FIX:\n",
    "year = int(input(\"What's your year of birth?\"))\n",
    "\n",
    "if year > 1980 and year <= 1994: # <<< Playing computer has to do with reading each line as literally as possible. A small symbol can be enough to create a big problem in functionality. \n",
    "    print(\"You are a millennial.\")\n",
    "elif year > 1994:\n",
    "    print(\"You are a Gen Z.\")\n"
   ]
  },
  {
   "cell_type": "code",
   "execution_count": null,
   "metadata": {},
   "outputs": [],
   "source": [
    "## Debugging - Fix the Errors\n",
    "\n",
    "# age = int(input(\"How old are you?\"))\n",
    "# if age > 18:\n",
    "# print(\"You can drive at age {age}.\") # << Hover over errors to find out more about them\n",
    "\n",
    "# Fix:\n",
    "# age = int(input(\"How old are you?\")) # << There's still the human problem. What if they type the number, but the word that represents it instead of the actual number.\n",
    "# if age > 18:\n",
    "#     print(\"You can drive at age {age}.\") \n",
    "    \n",
    "# # Fix2:\n",
    "# try:\n",
    "#     age = int(input(\"How old are you?\")) \n",
    "# except ValueError:\n",
    "#     print(\"You've type an invalid number. Please try again with a numerical response such as 17\")\n",
    "#     age = int(input(\"How old are you?\")) \n",
    "    \n",
    "# if age > 18:\n",
    "#     print(\"You can drive at age {age}.\") # YET ANOTHER BUG, and there's no help to it except for your skills!\n",
    " \n",
    "# Fix3:    \n",
    "try:\n",
    "    age = int(input(\"How old are you? \")) \n",
    "except ValueError:\n",
    "    print(\"You've type an invalid number. Please try again with a numerical response such as 17\")\n",
    "    age = int(input(\"How old are you? \")) \n",
    "    \n",
    "if age > 18:\n",
    "    print(f\"You can drive at age {age}.\")"
   ]
  },
  {
   "cell_type": "code",
   "execution_count": null,
   "metadata": {},
   "outputs": [],
   "source": [
    "## Debugging - Use Print\n",
    "\n",
    "word_per_page = 0\n",
    "pages = int(input(\"Number of pages: \"))\n",
    "word_per_page == int(input(\"Number of words per page: \")) # Will return True or False; in this case False, because 0 != whatever number caught by the input\n",
    "total_words = pages * word_per_page\n",
    "print(total_words)\n",
    "\n",
    "# FIX:\n",
    "word_per_page = 0\n",
    "pages = int(input(\"Number of pages: \"))\n",
    "word_per_page = int(input(\"Number of words per page: \")) \n",
    "total_words = pages * word_per_page\n",
    "print(total_words)"
   ]
  },
  {
   "cell_type": "code",
   "execution_count": 50,
   "metadata": {},
   "outputs": [
    {
     "name": "stdout",
     "output_type": "stream",
     "text": [
      "[42]\n"
     ]
    }
   ],
   "source": [
    "## Debugging - Use Debugger\n",
    "\n",
    "import random\n",
    "import maths\n",
    "\n",
    "def mutate(a_list):\n",
    "    b_list = []\n",
    "    new_item = 0\n",
    "    for item in a_list:\n",
    "        new_item = item * 2\n",
    "        new_item += random.randint(1, 3)\n",
    "        new_item = maths.add(new_item, item)\n",
    "    b_list.append(new_item)\n",
    "    print(b_list)\n",
    "\n",
    "\n",
    "mutate([1, 2, 3, 5, 8, 13])\n"
   ]
  }
 ],
 "metadata": {
  "kernelspec": {
   "display_name": "Python 3",
   "language": "python",
   "name": "python3"
  },
  "language_info": {
   "codemirror_mode": {
    "name": "ipython",
    "version": 3
   },
   "file_extension": ".py",
   "mimetype": "text/x-python",
   "name": "python",
   "nbconvert_exporter": "python",
   "pygments_lexer": "ipython3",
   "version": "3.12.3"
  }
 },
 "nbformat": 4,
 "nbformat_minor": 2
}
