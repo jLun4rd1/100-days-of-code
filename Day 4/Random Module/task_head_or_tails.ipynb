{
 "cells": [
  {
   "cell_type": "code",
   "execution_count": 14,
   "metadata": {},
   "outputs": [
    {
     "name": "stdout",
     "output_type": "stream",
     "text": [
      "50\n",
      "50\n"
     ]
    }
   ],
   "source": [
    "import random\n",
    "# import my_module\n",
    "\n",
    "# random_integer = random.randint(a=1, b=10)\n",
    "# print(random_integer)\n",
    "\n",
    "# print(my_module.my_favorite_number)\n",
    "\n",
    "# random_number_0_to_1 = random.random() * 10\n",
    "# print(random_number_0_to_1)\n",
    "\n",
    "# random_float = random.uniform(a=1, b=10)\n",
    "# print(random_float)\n",
    "\n",
    "heads = []\n",
    "tails = []\n",
    "\n",
    "for i in range(0,100):\n",
    "    h_or_t = random.randint(0,1)\n",
    "    if h_or_t == 1:\n",
    "        heads.append(1)\n",
    "    else: \n",
    "        tails.append(1)\n",
    "        \n",
    "print(len(heads))\n",
    "print(len(tails))\n"
   ]
  }
 ],
 "metadata": {
  "kernelspec": {
   "display_name": "Python 3",
   "language": "python",
   "name": "python3"
  },
  "language_info": {
   "codemirror_mode": {
    "name": "ipython",
    "version": 3
   },
   "file_extension": ".py",
   "mimetype": "text/x-python",
   "name": "python",
   "nbconvert_exporter": "python",
   "pygments_lexer": "ipython3",
   "version": "3.12.3"
  }
 },
 "nbformat": 4,
 "nbformat_minor": 2
}
