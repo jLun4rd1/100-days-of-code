{
 "cells": [
  {
   "cell_type": "code",
   "execution_count": 8,
   "metadata": {},
   "outputs": [
    {
     "name": "stdout",
     "output_type": "stream",
     "text": [
      "[['Strawberries', 'Nectarines', 'Apples', 'Grapes', 'Peaches', 'Cherries', 'Pears'], ['Spinach', 'Kale', 'Tomatoes', 'Celery', 'Potatoes']]\n",
      "['Strawberries', 'Nectarines', 'Apples', 'Grapes', 'Peaches', 'Cherries', 'Pears']\n",
      "['Spinach', 'Kale', 'Tomatoes', 'Celery', 'Potatoes']\n",
      "Strawberries\n"
     ]
    }
   ],
   "source": [
    "dirty_dozen = ['Strawberries', 'Spinach', 'Kale', 'Nectarines', 'Apples', 'Grapes', 'Peaches', 'Cherries', 'Pears', 'Tomatoes', 'Celery', 'Potatoes']\n",
    "\n",
    "fruits = ['Strawberries', 'Nectarines', 'Apples', 'Grapes', 'Peaches', 'Cherries', 'Pears']\n",
    "vegetables = ['Spinach', 'Kale', 'Tomatoes', 'Celery', 'Potatoes'] \n",
    "\n",
    "dirty_dozen = [fruits, vegetables]\n",
    "\n",
    "print(dirty_dozen)\n",
    "print(dirty_dozen[0])\n",
    "print(dirty_dozen[1])\n",
    "print(dirty_dozen[0][0])\n"
   ]
  }
 ],
 "metadata": {
  "kernelspec": {
   "display_name": "Python 3",
   "language": "python",
   "name": "python3"
  },
  "language_info": {
   "codemirror_mode": {
    "name": "ipython",
    "version": 3
   },
   "file_extension": ".py",
   "mimetype": "text/x-python",
   "name": "python",
   "nbconvert_exporter": "python",
   "pygments_lexer": "ipython3",
   "version": "3.12.3"
  }
 },
 "nbformat": 4,
 "nbformat_minor": 2
}
