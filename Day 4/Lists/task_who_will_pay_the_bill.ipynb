{
 "cells": [
  {
   "cell_type": "code",
   "execution_count": 10,
   "metadata": {},
   "outputs": [
    {
     "name": "stdout",
     "output_type": "stream",
     "text": [
      "Bob\n",
      "Charlie\n"
     ]
    }
   ],
   "source": [
    "import random\n",
    "\n",
    "friends = [\"Alice\", \"Bob\", \"Charlie\", \"David\", \"Emanuel\"]\n",
    "\n",
    "length = len(friends) - 1\n",
    "index = random.randint(0, length)\n",
    "print(friends[index])\n",
    "\n",
    "## Read the documentation to learn new ways to do stuff!!\n",
    "# I myself dind't know about random.choice(list)\n",
    "print(random.choice(friends))"
   ]
  }
 ],
 "metadata": {
  "kernelspec": {
   "display_name": "Python 3",
   "language": "python",
   "name": "python3"
  },
  "language_info": {
   "codemirror_mode": {
    "name": "ipython",
    "version": 3
   },
   "file_extension": ".py",
   "mimetype": "text/x-python",
   "name": "python",
   "nbconvert_exporter": "python",
   "pygments_lexer": "ipython3",
   "version": "3.12.3"
  }
 },
 "nbformat": 4,
 "nbformat_minor": 2
}
