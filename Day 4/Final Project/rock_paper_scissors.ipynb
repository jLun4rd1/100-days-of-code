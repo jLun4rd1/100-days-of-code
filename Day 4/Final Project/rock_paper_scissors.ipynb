{
 "cells": [
  {
   "cell_type": "code",
   "execution_count": 22,
   "metadata": {},
   "outputs": [
    {
     "name": "stdout",
     "output_type": "stream",
     "text": [
      "Remember to type a number! This time around I chose this for you:\n",
      "\n",
      "    _______\n",
      "---'   ____)\n",
      "      (_____)\n",
      "      (_____)\n",
      "      (____)\n",
      "---.__(___)\n",
      "\n",
      "Computer chose:\n",
      "\n",
      "    _______\n",
      "---'   ____)____\n",
      "          ______)\n",
      "       __________)\n",
      "      (____)\n",
      "---.__(___)\n",
      "\n",
      "You win!\n"
     ]
    }
   ],
   "source": [
    "import assets\n",
    "import random\n",
    "\n",
    "list = [assets.rock, assets.paper, assets.scissors]\n",
    "index_list = [0, 1, 2]\n",
    "\n",
    "player = input('What do you choose? Type 0 for Rock, 1 for Paper or 2 for Scissors.\\nR: ')\n",
    "\n",
    "random_option = random.choice(index_list)\n",
    "\n",
    "computer = random.choice(index_list)\n",
    "computer_choice = list[computer]\n",
    "\n",
    "if int(player) in index_list:\n",
    "    print(player)\n",
    "    player_choice = list[int(player)]\n",
    "    print(player_choice)\n",
    "else:\n",
    "    random_choice = list[random_option]\n",
    "    player_choice = random_choice\n",
    "    print('Remember to type a valid number! This time around I chose this for you:')\n",
    "    print(player_choice)\n",
    "    \n",
    "\n",
    "print('Computer chose:')\n",
    "print(computer_choice)\n",
    "\n",
    "if player_choice == assets.rock and computer_choice == assets.paper:\n",
    "    print('You lose!')\n",
    "elif player_choice == assets.rock and computer_choice == assets.scissors:\n",
    "    print('You win!')\n",
    "elif player_choice == assets.paper and computer_choice == assets.scissors:\n",
    "    print('You lose!')\n",
    "elif player_choice == assets.paper and computer_choice == assets.rock:\n",
    "    print('You win!')\n",
    "elif player_choice == assets.scissors and computer_choice == assets.rock:\n",
    "    print('You lose!')\n",
    "elif player_choice == assets.scissors and computer_choice == assets.paper:\n",
    "    print('You win!')\n",
    "else:\n",
    "    print('It\\'s a draw!')\n"
   ]
  }
 ],
 "metadata": {
  "kernelspec": {
   "display_name": "Python 3",
   "language": "python",
   "name": "python3"
  },
  "language_info": {
   "codemirror_mode": {
    "name": "ipython",
    "version": 3
   },
   "file_extension": ".py",
   "mimetype": "text/x-python",
   "name": "python",
   "nbconvert_exporter": "python",
   "pygments_lexer": "ipython3",
   "version": "3.12.3"
  }
 },
 "nbformat": 4,
 "nbformat_minor": 2
}
