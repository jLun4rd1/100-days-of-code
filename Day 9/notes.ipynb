{
 "cells": [
  {
   "cell_type": "code",
   "execution_count": null,
   "metadata": {},
   "outputs": [],
   "source": [
    "# Dictionaries\n",
    "\n",
    "# Dictionary Sintax\n",
    "programming_dictionary = {\n",
    "    \"Bug\": \"An error in a program that prevents the program to function properly.\",\n",
    "    \"Function\": \"A piece of code that you can easily call over and over again.\",\n",
    "}\n",
    "\n",
    "# Accessing a key's value on a dictionary\n",
    "programming_dictionary[\"Function\"]\n",
    "\n",
    "# Adding a key with a value on a dicitonary\n",
    "programming_dictionary[\"Loop\"] = \"The action of doing something over and over again.\"\n",
    "\n",
    "# Creating an empty dictionary and then adding a key to it\n",
    "empty_dictionary = {}\n",
    "empty_dictionary[1] = \"Hello\"\n",
    "\n",
    "# Editing a key's value on a dictionary\n",
    "empty_dictionary[1] = \"Goodbye\"\n",
    "\n",
    "# Looping through a dictionary\n",
    "for key in programming_dictionary:\n",
    "    print(key + ':')\n",
    "    print('    ' + programming_dictionary[key])\n",
    "\n"
   ]
  },
  {
   "cell_type": "code",
   "execution_count": null,
   "metadata": {},
   "outputs": [],
   "source": [
    "# Nesting Lists and Dictionaries\n",
    "\n",
    "# Simple dictionary\n",
    "capitals = {\n",
    "    \"Brazil\": \"Brasilia\",\n",
    "    \"Paraná\": \"Curitiba\",\n",
    "}\n",
    "\n",
    "# Nested List in a Dictionary\n",
    "travel_log = {\n",
    "    \"France\": [\"Paris\", \"Lille\", \"Dijon\"],\n",
    "    \"Germany\": [\"Stuttgart\", \"Berlin\"],\n",
    "}\n",
    "print(travel_log[\"France\"][1])\n",
    "\n",
    "# Nested List inside another List\n",
    "nested_list = [\"A\", \"B\", [\"C\", \"D\"]]\n",
    "\n",
    "print(nested_list[2][1])\n",
    "\n",
    "# Nested Dictionary inside another Dictionary\n",
    "travel_log = {\n",
    "    \"France\": {\n",
    "        \"cities_visited\": [\"Paris\", \"Lille\", \"Dijon\"],\n",
    "        \"total_visits\": 12\n",
    "    },\n",
    "    \"Germany\": {\n",
    "        \"cities_visited\": [\"Stuttgart\", \"Berlin\"],\n",
    "        \"total_visits\": 5\n",
    "    },\n",
    "}\n",
    "print(travel_log[\"Germany\"][\"cities_visited\"][0])"
   ]
  },
  {
   "cell_type": "code",
   "execution_count": 10,
   "metadata": {},
   "outputs": [
    {
     "name": "stdout",
     "output_type": "stream",
     "text": [
      "A round of applause to Joao!\n",
      "They won with a bid of $70\n"
     ]
    }
   ],
   "source": [
    "# Blind auction program\n",
    "from IPython.display import clear_output\n",
    "import time\n",
    "import art\n",
    "\n",
    "print(art.logo)\n",
    "print('Welcome to our blind auction!')\n",
    "\n",
    "keep_going = True\n",
    "\n",
    "players_data = {}\n",
    "\n",
    "def find_winner(players_dictionary):\n",
    "    winner = ''\n",
    "    winner_bid = 0\n",
    "            \n",
    "    for player in players_dictionary:\n",
    "        if players_dictionary[player] > winner_bid:\n",
    "            winner = player\n",
    "            winner_bid = players_data[player]\n",
    "\n",
    "    print(f\"A round of applause to {winner}!\")\n",
    "    print(f\"They won with a bid of ${winner_bid}\")\n",
    "\n",
    "while keep_going == True:\n",
    "    name = input('Type your name: ')\n",
    "    bid = int(input('Type your bid: $'))\n",
    "    \n",
    "    players_data[name] = bid\n",
    "    \n",
    "    print(f'{name}, your bid is: ${bid}')\n",
    "    time.sleep(4.5)\n",
    "    clear_output()\n",
    "    \n",
    "    more_players = input(\"Are there more players? Type 'yes' or 'no'.\").lower()\n",
    "    if more_players == 'no':\n",
    "        keep_going = False\n",
    "        find_winner(players_data)\n",
    "\n",
    "\n",
    "    \n"
   ]
  }
 ],
 "metadata": {
  "kernelspec": {
   "display_name": "Python 3",
   "language": "python",
   "name": "python3"
  },
  "language_info": {
   "codemirror_mode": {
    "name": "ipython",
    "version": 3
   },
   "file_extension": ".py",
   "mimetype": "text/x-python",
   "name": "python",
   "nbconvert_exporter": "python",
   "pygments_lexer": "ipython3",
   "version": "3.12.3"
  }
 },
 "nbformat": 4,
 "nbformat_minor": 2
}
